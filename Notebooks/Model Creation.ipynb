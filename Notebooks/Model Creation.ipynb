{
 "cells": [
  {
   "cell_type": "code",
   "execution_count": 1,
   "id": "c9356357",
   "metadata": {},
   "outputs": [],
   "source": [
    "import pandas as pd\n",
    "import numpy as np\n",
    "import os\n",
    "from sklearn import metrics\n",
    "from sklearn.model_selection import train_test_split\n",
    "from sklearn.metrics import recall_score\n",
    "from sklearn.metrics import classification_report\n",
    "from sklearn.metrics import confusion_matrix\n",
    "from sklearn.tree import DecisionTreeClassifier\n",
    "from imblearn.combine import SMOTEENN\n",
    "from sklearn.ensemble import RandomForestClassifier"
   ]
  },
  {
   "cell_type": "code",
   "execution_count": 2,
   "id": "1e37751c",
   "metadata": {},
   "outputs": [],
   "source": [
    "os.chdir(\"E:\\\\Projects\\\\Protfolio_Project\\\\bank+marketing\\\\bank\")"
   ]
  },
  {
   "cell_type": "code",
   "execution_count": 3,
   "id": "dfbf4dd3",
   "metadata": {},
   "outputs": [],
   "source": [
    "df=pd.read_csv('Bank_Update.csv')"
   ]
  },
  {
   "cell_type": "code",
   "execution_count": 4,
   "id": "1f0b5d35",
   "metadata": {},
   "outputs": [
    {
     "data": {
      "text/html": [
       "<div>\n",
       "<style scoped>\n",
       "    .dataframe tbody tr th:only-of-type {\n",
       "        vertical-align: middle;\n",
       "    }\n",
       "\n",
       "    .dataframe tbody tr th {\n",
       "        vertical-align: top;\n",
       "    }\n",
       "\n",
       "    .dataframe thead th {\n",
       "        text-align: right;\n",
       "    }\n",
       "</style>\n",
       "<table border=\"1\" class=\"dataframe\">\n",
       "  <thead>\n",
       "    <tr style=\"text-align: right;\">\n",
       "      <th></th>\n",
       "      <th>age</th>\n",
       "      <th>balance</th>\n",
       "      <th>day</th>\n",
       "      <th>duration</th>\n",
       "      <th>campaign</th>\n",
       "      <th>pdays</th>\n",
       "      <th>previous</th>\n",
       "      <th>y</th>\n",
       "      <th>job_admin.</th>\n",
       "      <th>job_blue-collar</th>\n",
       "      <th>...</th>\n",
       "      <th>poutcome_unknown</th>\n",
       "      <th>age_group_10 - 19</th>\n",
       "      <th>age_group_20 - 29</th>\n",
       "      <th>age_group_30 - 39</th>\n",
       "      <th>age_group_40 - 49</th>\n",
       "      <th>age_group_50 - 59</th>\n",
       "      <th>age_group_60 - 69</th>\n",
       "      <th>age_group_70 - 79</th>\n",
       "      <th>age_group_80 - 89</th>\n",
       "      <th>age_group_90 - 99</th>\n",
       "    </tr>\n",
       "  </thead>\n",
       "  <tbody>\n",
       "    <tr>\n",
       "      <th>0</th>\n",
       "      <td>58</td>\n",
       "      <td>2143</td>\n",
       "      <td>5</td>\n",
       "      <td>261</td>\n",
       "      <td>1</td>\n",
       "      <td>-1</td>\n",
       "      <td>0</td>\n",
       "      <td>0</td>\n",
       "      <td>0</td>\n",
       "      <td>0</td>\n",
       "      <td>...</td>\n",
       "      <td>1</td>\n",
       "      <td>0</td>\n",
       "      <td>0</td>\n",
       "      <td>0</td>\n",
       "      <td>0</td>\n",
       "      <td>1</td>\n",
       "      <td>0</td>\n",
       "      <td>0</td>\n",
       "      <td>0</td>\n",
       "      <td>0</td>\n",
       "    </tr>\n",
       "    <tr>\n",
       "      <th>1</th>\n",
       "      <td>44</td>\n",
       "      <td>29</td>\n",
       "      <td>5</td>\n",
       "      <td>151</td>\n",
       "      <td>1</td>\n",
       "      <td>-1</td>\n",
       "      <td>0</td>\n",
       "      <td>0</td>\n",
       "      <td>0</td>\n",
       "      <td>0</td>\n",
       "      <td>...</td>\n",
       "      <td>1</td>\n",
       "      <td>0</td>\n",
       "      <td>0</td>\n",
       "      <td>0</td>\n",
       "      <td>1</td>\n",
       "      <td>0</td>\n",
       "      <td>0</td>\n",
       "      <td>0</td>\n",
       "      <td>0</td>\n",
       "      <td>0</td>\n",
       "    </tr>\n",
       "    <tr>\n",
       "      <th>2</th>\n",
       "      <td>33</td>\n",
       "      <td>2</td>\n",
       "      <td>5</td>\n",
       "      <td>76</td>\n",
       "      <td>1</td>\n",
       "      <td>-1</td>\n",
       "      <td>0</td>\n",
       "      <td>0</td>\n",
       "      <td>0</td>\n",
       "      <td>0</td>\n",
       "      <td>...</td>\n",
       "      <td>1</td>\n",
       "      <td>0</td>\n",
       "      <td>0</td>\n",
       "      <td>1</td>\n",
       "      <td>0</td>\n",
       "      <td>0</td>\n",
       "      <td>0</td>\n",
       "      <td>0</td>\n",
       "      <td>0</td>\n",
       "      <td>0</td>\n",
       "    </tr>\n",
       "    <tr>\n",
       "      <th>3</th>\n",
       "      <td>47</td>\n",
       "      <td>1506</td>\n",
       "      <td>5</td>\n",
       "      <td>92</td>\n",
       "      <td>1</td>\n",
       "      <td>-1</td>\n",
       "      <td>0</td>\n",
       "      <td>0</td>\n",
       "      <td>0</td>\n",
       "      <td>1</td>\n",
       "      <td>...</td>\n",
       "      <td>1</td>\n",
       "      <td>0</td>\n",
       "      <td>0</td>\n",
       "      <td>0</td>\n",
       "      <td>1</td>\n",
       "      <td>0</td>\n",
       "      <td>0</td>\n",
       "      <td>0</td>\n",
       "      <td>0</td>\n",
       "      <td>0</td>\n",
       "    </tr>\n",
       "    <tr>\n",
       "      <th>4</th>\n",
       "      <td>33</td>\n",
       "      <td>1</td>\n",
       "      <td>5</td>\n",
       "      <td>198</td>\n",
       "      <td>1</td>\n",
       "      <td>-1</td>\n",
       "      <td>0</td>\n",
       "      <td>0</td>\n",
       "      <td>0</td>\n",
       "      <td>0</td>\n",
       "      <td>...</td>\n",
       "      <td>1</td>\n",
       "      <td>0</td>\n",
       "      <td>0</td>\n",
       "      <td>1</td>\n",
       "      <td>0</td>\n",
       "      <td>0</td>\n",
       "      <td>0</td>\n",
       "      <td>0</td>\n",
       "      <td>0</td>\n",
       "      <td>0</td>\n",
       "    </tr>\n",
       "  </tbody>\n",
       "</table>\n",
       "<p>5 rows × 61 columns</p>\n",
       "</div>"
      ],
      "text/plain": [
       "   age  balance  day  duration  campaign  pdays  previous  y  job_admin.  \\\n",
       "0   58     2143    5       261         1     -1         0  0           0   \n",
       "1   44       29    5       151         1     -1         0  0           0   \n",
       "2   33        2    5        76         1     -1         0  0           0   \n",
       "3   47     1506    5        92         1     -1         0  0           0   \n",
       "4   33        1    5       198         1     -1         0  0           0   \n",
       "\n",
       "   job_blue-collar  ...  poutcome_unknown  age_group_10 - 19  \\\n",
       "0                0  ...                 1                  0   \n",
       "1                0  ...                 1                  0   \n",
       "2                0  ...                 1                  0   \n",
       "3                1  ...                 1                  0   \n",
       "4                0  ...                 1                  0   \n",
       "\n",
       "   age_group_20 - 29  age_group_30 - 39  age_group_40 - 49  age_group_50 - 59  \\\n",
       "0                  0                  0                  0                  1   \n",
       "1                  0                  0                  1                  0   \n",
       "2                  0                  1                  0                  0   \n",
       "3                  0                  0                  1                  0   \n",
       "4                  0                  1                  0                  0   \n",
       "\n",
       "   age_group_60 - 69  age_group_70 - 79  age_group_80 - 89  age_group_90 - 99  \n",
       "0                  0                  0                  0                  0  \n",
       "1                  0                  0                  0                  0  \n",
       "2                  0                  0                  0                  0  \n",
       "3                  0                  0                  0                  0  \n",
       "4                  0                  0                  0                  0  \n",
       "\n",
       "[5 rows x 61 columns]"
      ]
     },
     "execution_count": 4,
     "metadata": {},
     "output_type": "execute_result"
    }
   ],
   "source": [
    "df.head()"
   ]
  },
  {
   "cell_type": "code",
   "execution_count": 5,
   "id": "38d5edac",
   "metadata": {},
   "outputs": [],
   "source": [
    "x=df.drop('y',axis=1)\n",
    "y=df['y']"
   ]
  },
  {
   "cell_type": "markdown",
   "id": "c38e35d3",
   "metadata": {},
   "source": [
    "**Train Test Split**"
   ]
  },
  {
   "cell_type": "code",
   "execution_count": 6,
   "id": "ced5275d",
   "metadata": {},
   "outputs": [],
   "source": [
    "x_train,x_test,y_train,y_test=train_test_split(x,y,test_size=0.2)"
   ]
  },
  {
   "cell_type": "markdown",
   "id": "f1dfa207",
   "metadata": {},
   "source": [
    "**Decision Tree Classifier**"
   ]
  },
  {
   "cell_type": "code",
   "execution_count": 7,
   "id": "d15ed010",
   "metadata": {},
   "outputs": [],
   "source": [
    "model_dt=DecisionTreeClassifier(criterion = \"gini\",random_state = 100,max_depth=6, min_samples_leaf=8)"
   ]
  },
  {
   "cell_type": "code",
   "execution_count": 8,
   "id": "cb1cca5c",
   "metadata": {},
   "outputs": [
    {
     "data": {
      "text/plain": [
       "DecisionTreeClassifier(max_depth=6, min_samples_leaf=8, random_state=100)"
      ]
     },
     "execution_count": 8,
     "metadata": {},
     "output_type": "execute_result"
    }
   ],
   "source": [
    "model_dt.fit(x_train,y_train)"
   ]
  },
  {
   "cell_type": "code",
   "execution_count": 9,
   "id": "9f04f746",
   "metadata": {},
   "outputs": [],
   "source": [
    "y_pred=model_dt.predict(x_test)"
   ]
  },
  {
   "cell_type": "code",
   "execution_count": 10,
   "id": "72d05982",
   "metadata": {},
   "outputs": [
    {
     "data": {
      "text/plain": [
       "0.8989273471193188"
      ]
     },
     "execution_count": 10,
     "metadata": {},
     "output_type": "execute_result"
    }
   ],
   "source": [
    "model_dt.score(x_test,y_test)"
   ]
  },
  {
   "cell_type": "code",
   "execution_count": 11,
   "id": "8b5d4617",
   "metadata": {},
   "outputs": [
    {
     "name": "stdout",
     "output_type": "stream",
     "text": [
      "              precision    recall  f1-score   support\n",
      "\n",
      "           0       0.92      0.97      0.94      7994\n",
      "           1       0.61      0.36      0.45      1049\n",
      "\n",
      "    accuracy                           0.90      9043\n",
      "   macro avg       0.77      0.66      0.70      9043\n",
      "weighted avg       0.88      0.90      0.89      9043\n",
      "\n"
     ]
    }
   ],
   "source": [
    "print(classification_report(y_test, y_pred, labels=[0,1]))"
   ]
  },
  {
   "cell_type": "markdown",
   "id": "ce70068e",
   "metadata": {},
   "source": [
    "**Low accuracy is observed in the model.**\n",
    "\n",
    "**In imbalanced datasets, accuracy is not a reliable metric.**\n",
    "\n",
    "**Imbalanced datasets skew the accuracy measure, making it deceptive for model evaluation.**"
   ]
  },
  {
   "cell_type": "markdown",
   "id": "4330f406",
   "metadata": {},
   "source": [
    "**it's necessary to focus on the precision, recall, and f1-score for Class 1, indicating churned customers, as these scores are considerably lower (precision: 0.65, recall: 0.38, f1-score: 0.48). These lower scores for the minority class demonstrate the model's limitations in correctly identifying and capturing the churned customers in the dataset.**"
   ]
  },
  {
   "cell_type": "markdown",
   "id": "41ebcc56",
   "metadata": {},
   "source": [
    "#  moving ahead to call SMOTEENN (UpSampling + ENN)"
   ]
  },
  {
   "cell_type": "code",
   "execution_count": 12,
   "id": "40d81dd6",
   "metadata": {},
   "outputs": [],
   "source": [
    "sm = SMOTEENN()\n",
    "X_resampled, y_resampled = sm.fit_resample(x, y)\n"
   ]
  },
  {
   "cell_type": "code",
   "execution_count": 13,
   "id": "884a8a5d",
   "metadata": {},
   "outputs": [],
   "source": [
    "xr_train,xr_test,yr_train,yr_test=train_test_split(X_resampled, y_resampled,test_size=0.2)"
   ]
  },
  {
   "cell_type": "code",
   "execution_count": 14,
   "id": "dfeb8dac",
   "metadata": {},
   "outputs": [],
   "source": [
    "model_dt_smote=DecisionTreeClassifier(criterion = \"gini\",random_state = 100,max_depth=6, min_samples_leaf=8)"
   ]
  },
  {
   "cell_type": "code",
   "execution_count": 15,
   "id": "d2c36391",
   "metadata": {},
   "outputs": [
    {
     "name": "stdout",
     "output_type": "stream",
     "text": [
      "0.9168877099911583\n",
      "              precision    recall  f1-score   support\n",
      "\n",
      "           0       0.89      0.93      0.91      5545\n",
      "           1       0.94      0.91      0.92      6896\n",
      "\n",
      "    accuracy                           0.92     12441\n",
      "   macro avg       0.92      0.92      0.92     12441\n",
      "weighted avg       0.92      0.92      0.92     12441\n",
      "\n"
     ]
    }
   ],
   "source": [
    "model_dt_smote.fit(xr_train,yr_train)\n",
    "yr_predict = model_dt_smote.predict(xr_test)\n",
    "model_score_r = model_dt_smote.score(xr_test, yr_test)\n",
    "print(model_score_r)\n",
    "print(metrics.classification_report(yr_test, yr_predict))"
   ]
  },
  {
   "cell_type": "code",
   "execution_count": 16,
   "id": "a2b65abf",
   "metadata": {},
   "outputs": [
    {
     "name": "stdout",
     "output_type": "stream",
     "text": [
      "[[5138  407]\n",
      " [ 627 6269]]\n"
     ]
    }
   ],
   "source": [
    "print(metrics.confusion_matrix(yr_test, yr_predict))"
   ]
  },
  {
   "cell_type": "markdown",
   "id": "fe4c0922",
   "metadata": {},
   "source": [
    "**observing the confusion matrix, the model exhibits promising results with an accuracy of 92%. Impressively, the recall, precision, and f1-score for the minority class demonstrate significant improvemen**"
   ]
  },
  {
   "cell_type": "markdown",
   "id": "5834f2c1",
   "metadata": {},
   "source": [
    "**Random Forest Classifier**"
   ]
  },
  {
   "cell_type": "code",
   "execution_count": 17,
   "id": "3b115681",
   "metadata": {},
   "outputs": [],
   "source": [
    "model_rf=RandomForestClassifier(n_estimators=100, criterion='gini', random_state = 100,max_depth=6, min_samples_leaf=8)"
   ]
  },
  {
   "cell_type": "code",
   "execution_count": 18,
   "id": "ded1bfdc",
   "metadata": {},
   "outputs": [
    {
     "name": "stdout",
     "output_type": "stream",
     "text": [
      "              precision    recall  f1-score   support\n",
      "\n",
      "           0       0.90      0.99      0.94      7994\n",
      "           1       0.76      0.14      0.23      1049\n",
      "\n",
      "    accuracy                           0.89      9043\n",
      "   macro avg       0.83      0.56      0.59      9043\n",
      "weighted avg       0.88      0.89      0.86      9043\n",
      "\n"
     ]
    }
   ],
   "source": [
    "model_rf.fit(x_train,y_train)\n",
    "y_pred=model_rf.predict(x_test)\n",
    "model_rf.score(x_test,y_test)\n",
    "print(classification_report(y_test, y_pred, labels=[0,1]))\n"
   ]
  },
  {
   "cell_type": "code",
   "execution_count": 19,
   "id": "cff8f566",
   "metadata": {},
   "outputs": [],
   "source": [
    "from imblearn.combine import SMOTEENN\n",
    "\n",
    "sm = SMOTEENN()\n",
    "X_resampled1, y_resampled1 = sm.fit_resample(x, y)\n"
   ]
  },
  {
   "cell_type": "code",
   "execution_count": 20,
   "id": "68447ccb",
   "metadata": {},
   "outputs": [],
   "source": [
    "xr_train1,xr_test1,yr_train1,yr_test1=train_test_split(X_resampled1, y_resampled1,test_size=0.2)"
   ]
  },
  {
   "cell_type": "code",
   "execution_count": 21,
   "id": "7dd6b6a1",
   "metadata": {},
   "outputs": [],
   "source": [
    "model_rf_smote=RandomForestClassifier(n_estimators=100, criterion='gini', random_state = 100,max_depth=6, min_samples_leaf=8)"
   ]
  },
  {
   "cell_type": "code",
   "execution_count": 22,
   "id": "1e9a2024",
   "metadata": {},
   "outputs": [
    {
     "data": {
      "text/plain": [
       "RandomForestClassifier(max_depth=6, min_samples_leaf=8, random_state=100)"
      ]
     },
     "execution_count": 22,
     "metadata": {},
     "output_type": "execute_result"
    }
   ],
   "source": [
    "model_rf_smote.fit(xr_train1,yr_train1)"
   ]
  },
  {
   "cell_type": "code",
   "execution_count": 23,
   "id": "391a5180",
   "metadata": {},
   "outputs": [],
   "source": [
    "yr_predict1 = model_rf_smote.predict(xr_test1)"
   ]
  },
  {
   "cell_type": "code",
   "execution_count": 24,
   "id": "3d9e015a",
   "metadata": {},
   "outputs": [],
   "source": [
    "model_score_r1 = model_rf_smote.score(xr_test1, yr_test1)"
   ]
  },
  {
   "cell_type": "code",
   "execution_count": 25,
   "id": "bf23ae17",
   "metadata": {},
   "outputs": [
    {
     "name": "stdout",
     "output_type": "stream",
     "text": [
      "0.9465832531280077\n",
      "              precision    recall  f1-score   support\n",
      "\n",
      "           0       0.96      0.92      0.94      5534\n",
      "           1       0.94      0.97      0.95      6934\n",
      "\n",
      "    accuracy                           0.95     12468\n",
      "   macro avg       0.95      0.94      0.95     12468\n",
      "weighted avg       0.95      0.95      0.95     12468\n",
      "\n"
     ]
    }
   ],
   "source": [
    "print(model_score_r1)\n",
    "print(metrics.classification_report(yr_test1, yr_predict1))"
   ]
  },
  {
   "cell_type": "code",
   "execution_count": 26,
   "id": "0937564b",
   "metadata": {},
   "outputs": [
    {
     "name": "stdout",
     "output_type": "stream",
     "text": [
      "[[5071  463]\n",
      " [ 203 6731]]\n"
     ]
    }
   ],
   "source": [
    "print(metrics.confusion_matrix(yr_test1, yr_predict1))"
   ]
  },
  {
   "cell_type": "code",
   "execution_count": null,
   "id": "58eef20f",
   "metadata": {},
   "outputs": [],
   "source": []
  }
 ],
 "metadata": {
  "kernelspec": {
   "display_name": "Python 3 (ipykernel)",
   "language": "python",
   "name": "python3"
  },
  "language_info": {
   "codemirror_mode": {
    "name": "ipython",
    "version": 3
   },
   "file_extension": ".py",
   "mimetype": "text/x-python",
   "name": "python",
   "nbconvert_exporter": "python",
   "pygments_lexer": "ipython3",
   "version": "3.9.12"
  }
 },
 "nbformat": 4,
 "nbformat_minor": 5
}
